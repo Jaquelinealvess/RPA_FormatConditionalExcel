{
 "cells": [
  {
   "cell_type": "code",
   "execution_count": 4,
   "id": "25354997",
   "metadata": {},
   "outputs": [],
   "source": [
    "# trabalhando com formatacao condicional, preenchendo células de acordo com os critérios \n",
    "# \"Células com valores >= 500 preencher com cor verde e < 50 vermelho\"\n",
    "import xlsxwriter as opcoesXlsxWriter\n",
    "import os\n",
    "\n",
    "nomeCaminhoArquivo = \"C:\\\\Users\\jasantos\\Curso RPA\\RPA_FormatacaoCondicional\\FormatacaoCondicional.xlsx\"\n",
    "minhaPlanilha = opcoesXlsxWriter.Workbook(nomeCaminhoArquivo)\n",
    "\n",
    "# seleciona a sheet que tem as informações a serem passadas para o formulario on-line\n",
    "sheetDados = minhaPlanilha.add_worksheet(\"Dados\")\n",
    "\n",
    "# Adicionando um formato de preenchimento verde com texto branco\n",
    "formatoMaior = minhaPlanilha.add_format({'bg_color': 'green',\n",
    "                                         'font_color': 'white'})\n",
    "\n",
    "# Adicionando um formato de preenchimento vermelho com texto branco\n",
    "formatoMenor = minhaPlanilha.add_format({'bg_color': 'red',\n",
    "                                         'font_color': 'white'})\n",
    "\n",
    "InserirDados = [\n",
    "    [\"Coluna 1\", \"Coluna 2\", \"Coluna 3\", \"Coluna 4\"],\n",
    "    [34, 50, 12, 34], \n",
    "    [23, 32, 76, 51],\n",
    "    [43, 32, 10, 20],\n",
    "    [10, 20, 30, 51],\n",
    "]\n",
    "\n",
    "sheetDados.write('A1', \"Células com valores >= 500 estão em verde e < 50 estão em vermelho\")\n",
    "for linha, range in enumerate(InserirDados):\n",
    "    sheetDados.write_row(linha + 2, 1, range) # linha 3, coluna  2\n",
    "    \n",
    "sheetDados.conditional_format('B4:E7', {'type': 'cell',\n",
    "                                       'criteria': '>=',\n",
    "                                       'value': 50,\n",
    "                                       'format': formatoMaior})\n",
    "\n",
    "sheetDados.conditional_format('B4:E7', {'type': 'cell',\n",
    "                                       'criteria': '<',\n",
    "                                       'value': 50,\n",
    "                                       'format': formatoMenor})\n",
    "    \n",
    "# Fechando arquivo\n",
    "minhaPlanilha.close()\n",
    "\n",
    "# abrindo o arquivo\n",
    "os.startfile(nomeCaminhoArquivo)"
   ]
  },
  {
   "cell_type": "code",
   "execution_count": null,
   "id": "da41f9a0",
   "metadata": {},
   "outputs": [],
   "source": []
  }
 ],
 "metadata": {
  "kernelspec": {
   "display_name": "Python 3 (ipykernel)",
   "language": "python",
   "name": "python3"
  },
  "language_info": {
   "codemirror_mode": {
    "name": "ipython",
    "version": 3
   },
   "file_extension": ".py",
   "mimetype": "text/x-python",
   "name": "python",
   "nbconvert_exporter": "python",
   "pygments_lexer": "ipython3",
   "version": "3.9.12"
  }
 },
 "nbformat": 4,
 "nbformat_minor": 5
}
